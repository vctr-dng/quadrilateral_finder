{
 "cells": [
  {
   "cell_type": "code",
   "execution_count": null,
   "metadata": {},
   "outputs": [],
   "source": [
    "import csv\n",
    "import torch\n",
    "\n",
    "import numpy as np\n",
    "import pandas as pd\n",
    "\n",
    "from multiprocessing import cpu_count\n",
    "from multiprocessing.pool import Pool\n",
    "from pathlib import Path\n",
    "\n",
    "from classes.dataset import CustomDataset"
   ]
  },
  {
   "cell_type": "code",
   "execution_count": null,
   "metadata": {},
   "outputs": [],
   "source": [
    "dataset_path = Path('dataset')\n",
    "csv_file = dataset_path/'metadata.csv'"
   ]
  },
  {
   "cell_type": "code",
   "execution_count": null,
   "metadata": {},
   "outputs": [],
   "source": [
    "sample_dim = pd.read_csv(csv_file, header=None, nrows=1).values.tolist()[0]\n",
    "img_labels = pd.read_csv(csv_file, header=None, skiprows=1)"
   ]
  },
  {
   "cell_type": "code",
   "execution_count": null,
   "metadata": {},
   "outputs": [],
   "source": [
    "print(sample_dim)\n",
    "print(img_labels)"
   ]
  },
  {
   "cell_type": "code",
   "execution_count": null,
   "metadata": {},
   "outputs": [],
   "source": [
    "customDS = CustomDataset(dataset_path, csv_file)"
   ]
  },
  {
   "cell_type": "code",
   "execution_count": null,
   "metadata": {},
   "outputs": [],
   "source": [
    "print(customDS.__getitem__(0)['label'])"
   ]
  },
  {
   "cell_type": "markdown",
   "metadata": {},
   "source": [
    "# Class PreProcessor"
   ]
  },
  {
   "cell_type": "markdown",
   "metadata": {},
   "source": [
    "TODO : load csv_file data into a file then multiprocess each line"
   ]
  },
  {
   "cell_type": "code",
   "execution_count": null,
   "metadata": {},
   "outputs": [],
   "source": [
    "sample_dim = pd.read_csv(csv_file, header=None, nrows=1).values.tolist()[0]\n",
    "img_labels = pd.read_csv(csv_file, header=None, skiprows=1)\n",
    "img_labels.rename(columns={0:'Name'}, inplace=True)\n",
    "\n",
    "print(sample_dim)\n",
    "img_labels"
   ]
  },
  {
   "cell_type": "code",
   "execution_count": null,
   "metadata": {},
   "outputs": [],
   "source": [
    "for index in img_labels.index:\n",
    "    #print(f'index : {index}')\n",
    "    #print(img_labels.loc[index].tolist())\n",
    "    row = img_labels.loc[index].tolist()\n",
    "\n",
    "    name = row[0]\n",
    "    coordinates = row[1:]\n",
    "\n",
    "#img_labels.loc[:, 1::2].apply(axis=1, inplace=True, func=lambda x: x/sample_dim[0],)\n",
    "#img_labels.loc[:, 2::2].apply(axis=1, inplace=True, func=lambda x: x/sample_dim[1])\n",
    "\n",
    "for i in range(1, len(img_labels.columns)):\n",
    "    img_labels[i] = img_labels[i]/sample_dim[(i+1)%2]"
   ]
  },
  {
   "cell_type": "code",
   "execution_count": null,
   "metadata": {},
   "outputs": [],
   "source": [
    "img_labels[img_labels.columns[:]]"
   ]
  },
  {
   "cell_type": "code",
   "execution_count": null,
   "metadata": {},
   "outputs": [],
   "source": [
    "coordinates = img_labels.iloc[0, 1:].tolist()\n",
    "print(coordinates)\n",
    "\n"
   ]
  },
  {
   "cell_type": "code",
   "execution_count": null,
   "metadata": {},
   "outputs": [],
   "source": [
    "\n",
    "\n",
    "for i in range(len(img_labels.index)):\n",
    "    coordinates = img_labels[1:].tolist()\n",
    "    "
   ]
  }
 ],
 "metadata": {
  "kernelspec": {
   "display_name": "quadrilateral",
   "language": "python",
   "name": "python3"
  },
  "language_info": {
   "codemirror_mode": {
    "name": "ipython",
    "version": 3
   },
   "file_extension": ".py",
   "mimetype": "text/x-python",
   "name": "python",
   "nbconvert_exporter": "python",
   "pygments_lexer": "ipython3",
   "version": "3.9.13"
  },
  "orig_nbformat": 4,
  "vscode": {
   "interpreter": {
    "hash": "9d9dba6b629ce529083bc46d04944ec100ca46b9aa85f349bfa8cec896dc6c74"
   }
  }
 },
 "nbformat": 4,
 "nbformat_minor": 2
}
