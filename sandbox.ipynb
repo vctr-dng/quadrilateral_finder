{
 "cells": [
  {
   "cell_type": "code",
   "execution_count": null,
   "metadata": {},
   "outputs": [],
   "source": [
    "import csv\n",
    "import os\n",
    "import torch\n",
    "\n",
    "import numpy as np\n",
    "import pandas as pd\n",
    "\n",
    "from multiprocessing import cpu_count\n",
    "from multiprocessing.pool import Pool\n",
    "from pathlib import Path\n",
    "\n",
    "from classes.dataset import CustomDataset"
   ]
  },
  {
   "cell_type": "code",
   "execution_count": null,
   "metadata": {},
   "outputs": [],
   "source": [
    "dataset_path = Path('dataset')\n",
    "csv_file = dataset_path/'metadata.csv'"
   ]
  },
  {
   "cell_type": "markdown",
   "metadata": {},
   "source": [
    "# Class PreProcessor"
   ]
  },
  {
   "cell_type": "code",
   "execution_count": null,
   "metadata": {},
   "outputs": [],
   "source": [
    "file = open(csv_file)"
   ]
  },
  {
   "cell_type": "code",
   "execution_count": null,
   "metadata": {},
   "outputs": [],
   "source": [
    "lines = [line.rstrip() for line in file.readlines()]\n",
    "print(lines)"
   ]
  },
  {
   "cell_type": "code",
   "execution_count": null,
   "metadata": {},
   "outputs": [],
   "source": [
    "sample_dim = [int(element) for element in lines[0].split(\",\")]\n",
    "print(sample_dim)\n",
    "\n",
    "metadata = []\n",
    "for l in lines[1:]:\n",
    "    line = l.split(\",\")\n",
    "    name = line[0]\n",
    "    for i in range(1,len(line)):\n",
    "        line[i] = int(line[i])\n",
    "    metadata.append(line)\n",
    "\n",
    "print(metadata)"
   ]
  },
  {
   "cell_type": "code",
   "execution_count": null,
   "metadata": {},
   "outputs": [],
   "source": [
    "scaled_coordinates = dataset_path/'scaled_coordinates'\n",
    "os.makedirs(scaled_coordinates, exist_ok=True)\n",
    "\n",
    "def preprocess(meta_line):\n",
    "    name = meta_line[0]\n",
    "    name = os.path.splitext(name)[0] # remove extension\n",
    "    \n",
    "    coordinates = meta_line[1:]\n",
    "    for i in range(0, len(coordinates), 2):\n",
    "        coordinates[i] /= sample_dim[0]\n",
    "        coordinates[i+1] /= sample_dim[1]\n",
    "    \n",
    "    array_coord = np.array([coordinates])\n",
    "    np.save(scaled_coordinates/f'{name}.npy', array_coord, allow_pickle=False)\n",
    "    return name"
   ]
  },
  {
   "cell_type": "code",
   "execution_count": null,
   "metadata": {},
   "outputs": [],
   "source": [
    "#It seems pooling does not work on notebooks\n",
    "pool = Pool(processes=cpu_count())\n",
    "mapper = pool.imap_unordered(preprocess, metadata)"
   ]
  },
  {
   "cell_type": "code",
   "execution_count": null,
   "metadata": {},
   "outputs": [],
   "source": [
    "for l in metadata:\n",
    "    preprocess(l)"
   ]
  },
  {
   "cell_type": "markdown",
   "metadata": {},
   "source": [
    "# Pandas exploration (unused)"
   ]
  },
  {
   "cell_type": "code",
   "execution_count": null,
   "metadata": {},
   "outputs": [],
   "source": [
    "sample_dim = pd.read_csv(csv_file, header=None, nrows=1).values.tolist()[0]\n",
    "img_labels = pd.read_csv(csv_file, header=None, skiprows=1)"
   ]
  },
  {
   "cell_type": "code",
   "execution_count": null,
   "metadata": {},
   "outputs": [],
   "source": [
    "print(sample_dim)\n",
    "print(img_labels)"
   ]
  },
  {
   "cell_type": "code",
   "execution_count": null,
   "metadata": {},
   "outputs": [],
   "source": [
    "customDS = CustomDataset(dataset_path, csv_file)"
   ]
  },
  {
   "cell_type": "code",
   "execution_count": null,
   "metadata": {},
   "outputs": [],
   "source": [
    "print(customDS.__getitem__(0)['label'])"
   ]
  },
  {
   "cell_type": "code",
   "execution_count": null,
   "metadata": {},
   "outputs": [],
   "source": [
    "sample_dim = pd.read_csv(csv_file, header=None, nrows=1).values.tolist()[0]\n",
    "img_labels = pd.read_csv(csv_file, header=None, skiprows=1)\n",
    "img_labels.rename(columns={0:'Name'}, inplace=True)\n",
    "\n",
    "print(sample_dim)\n",
    "img_labels"
   ]
  },
  {
   "cell_type": "code",
   "execution_count": null,
   "metadata": {},
   "outputs": [],
   "source": [
    "for index in img_labels.index:\n",
    "    #print(f'index : {index}')\n",
    "    #print(img_labels.loc[index].tolist())\n",
    "    row = img_labels.loc[index].tolist()\n",
    "\n",
    "    name = row[0]\n",
    "    coordinates = row[1:]\n",
    "\n",
    "#img_labels.loc[:, 1::2].apply(axis=1, inplace=True, func=lambda x: x/sample_dim[0],)\n",
    "#img_labels.loc[:, 2::2].apply(axis=1, inplace=True, func=lambda x: x/sample_dim[1])\n",
    "\n",
    "for i in range(1, len(img_labels.columns)):\n",
    "    img_labels[i] = img_labels[i]/sample_dim[(i+1)%2]"
   ]
  },
  {
   "cell_type": "code",
   "execution_count": null,
   "metadata": {},
   "outputs": [],
   "source": [
    "img_labels[img_labels.columns[:]]"
   ]
  },
  {
   "cell_type": "code",
   "execution_count": null,
   "metadata": {},
   "outputs": [],
   "source": [
    "coordinates = img_labels.iloc[0, 1:].tolist()\n",
    "print(coordinates)"
   ]
  },
  {
   "cell_type": "code",
   "execution_count": null,
   "metadata": {},
   "outputs": [],
   "source": [
    "for i in range(len(img_labels.index)):\n",
    "    coordinates = img_labels[1:].tolist()"
   ]
  }
 ],
 "metadata": {
  "kernelspec": {
   "display_name": "quadrilateral",
   "language": "python",
   "name": "python3"
  },
  "language_info": {
   "codemirror_mode": {
    "name": "ipython",
    "version": 3
   },
   "file_extension": ".py",
   "mimetype": "text/x-python",
   "name": "python",
   "nbconvert_exporter": "python",
   "pygments_lexer": "ipython3",
   "version": "3.9.13"
  },
  "orig_nbformat": 4,
  "vscode": {
   "interpreter": {
    "hash": "9d9dba6b629ce529083bc46d04944ec100ca46b9aa85f349bfa8cec896dc6c74"
   }
  }
 },
 "nbformat": 4,
 "nbformat_minor": 2
}
